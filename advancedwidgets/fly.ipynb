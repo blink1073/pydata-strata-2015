{
 "cells": [
  {
   "cell_type": "markdown",
   "metadata": {},
   "source": [
    "This notebook is adapted from Sylvain Corlay's example at https://github.com/SylvainCorlay/jupyter-fly"
   ]
  },
  {
   "cell_type": "code",
   "execution_count": null,
   "metadata": {
    "collapsed": false
   },
   "outputs": [],
   "source": [
    "from ipywidgets import Controller, FloatSlider, VBox, HBox\n",
    "from IPython.display import display\n",
    "pad = Controller()"
   ]
  },
  {
   "cell_type": "code",
   "execution_count": null,
   "metadata": {
    "collapsed": true
   },
   "outputs": [],
   "source": [
    "pad"
   ]
  },
  {
   "cell_type": "markdown",
   "metadata": {},
   "source": [
    "# We can easily wire the gamepad buttons and axes to other widgets"
   ]
  },
  {
   "cell_type": "code",
   "execution_count": null,
   "metadata": {
    "collapsed": true
   },
   "outputs": [],
   "source": [
    "import contextlib\n",
    "from traitlets.traitlets import _validate_link\n",
    "\n",
    "\n",
    "class transform_link(object):\n",
    "    \"\"\"Link the trait of a source object with traits of target objects.\n",
    "\n",
    "    Parameters\n",
    "    ----------\n",
    "    source : (object, attribute name) pair\n",
    "    target : (object, attribute name) pair\n",
    "    validation: callable\n",
    "\n",
    "    Examples\n",
    "    --------\n",
    "\n",
    "    >>> c = transform_link((src, 'value'), (tgt, 'value'))\n",
    "    >>> src.value = 5  # updates target objects\n",
    "    >>> tgt.value = 6  # does not update source object\n",
    "    \"\"\"\n",
    "    updating = False\n",
    "\n",
    "    def __init__(self, source, target, validation):\n",
    "        self._validate = validation\n",
    "        _validate_link(source, target)\n",
    "        self.source, self.target = source, target\n",
    "        try:\n",
    "            setattr(target[0], target[1],\n",
    "                    self._validate(getattr(source[0], source[1])))\n",
    "        finally:\n",
    "            self.source[0].on_trait_change(self._update, self.source[1])\n",
    "\n",
    "    @contextlib.contextmanager\n",
    "    def _busy_updating(self):\n",
    "        self.updating = True\n",
    "        try:\n",
    "            yield\n",
    "        finally:\n",
    "            self.updating = False\n",
    "\n",
    "    def _update(self, name, old, new):\n",
    "        if self.updating:\n",
    "            return\n",
    "        with self._busy_updating():\n",
    "            setattr(self.target[0], self.target[1], self._validate(new))\n",
    "\n",
    "    def unlink(self):\n",
    "        self.source[0].on_trait_change(self._update, self.source[1], remove=True)\n",
    "        self.source, self.target = None, None"
   ]
  },
  {
   "cell_type": "code",
   "execution_count": null,
   "metadata": {
    "collapsed": false
   },
   "outputs": [],
   "source": [
    "slider = FloatSlider(min=-1, max=1, description='Axis 0')\n",
    "\n",
    "def affine(constant, factor):\n",
    "    return lambda x: constant + factor * x\n",
    "\n",
    "pad.links = []\n",
    "\n",
    "def setup():\n",
    "    if pad.connected:\n",
    "        pad.links.append(transform_link((pad.axes[0], 'value'),\n",
    "                                        (slider, 'value'),\n",
    "      affine(0.5 * (slider.max + slider.min), 0.5 * (slider.max - slider.min))))\n",
    "    if not pad.connected:\n",
    "        for l in pad.links:\n",
    "            l.unlink()\n",
    "        pad.links = []\n",
    "        \n",
    "pad.on_trait_change(setup, name='connected')\n",
    "setup()"
   ]
  },
  {
   "cell_type": "code",
   "execution_count": null,
   "metadata": {
    "collapsed": true
   },
   "outputs": [],
   "source": [
    "from ipywidgets import FloatSlider"
   ]
  },
  {
   "cell_type": "code",
   "execution_count": null,
   "metadata": {
    "collapsed": false
   },
   "outputs": [],
   "source": [
    "slider"
   ]
  },
  {
   "cell_type": "code",
   "execution_count": null,
   "metadata": {
    "collapsed": false
   },
   "outputs": [],
   "source": [
    "from traitlets import link\n",
    "from ipywidgets import HTML, VBox\n",
    "import numpy as np\n",
    "from pythreejs import *\n",
    "\n",
    "nx,ny=(20,20)\n",
    "xmax=1\n",
    "x = np.linspace(-xmax,xmax,nx)\n",
    "y = np.linspace(-xmax,xmax,ny)\n",
    "xx, yy = np.meshgrid(x,y)\n",
    "z = xx**2-yy**2\n",
    "#z[6,1] = float('nan')\n",
    "surf_g = SurfaceGeometry(z=list(z[::-1].flat), \n",
    "                          width=2*xmax,\n",
    "                          height=2*xmax,\n",
    "                          width_segments=nx-1,\n",
    "                          height_segments=ny-1)\n",
    "\n",
    "surf = Mesh(geometry=surf_g, material=LambertMaterial(map=height_texture(z[::-1], 'YlGnBu_r')))\n",
    "surfgrid = SurfaceGrid(geometry=surf_g, material=LineBasicMaterial(color='black'))\n",
    "hover_point = Mesh(geometry=SphereGeometry(radius=0.05), material=LambertMaterial(color='hotpink'))\n",
    "scene = Scene(children=[surf, surfgrid, hover_point, AmbientLight(color=0x777777)])\n",
    "c = PerspectiveCamera(position=[0,3,3], up=[0,0,1], \n",
    "                      children=[DirectionalLight(color='white', position=[3,5,1], intensity=0.6)])\n",
    "click_picker = Picker(root=surf, event='click')\n",
    "hover_picker = Picker(root=surf, event='mousemove')\n",
    "renderer = Renderer(camera=c, scene = scene, controls=[OrbitControls(controlling=c), click_picker, hover_picker])\n",
    "\n",
    "def f(name, value):\n",
    "    print(\"Clicked on %s\"%value)\n",
    "    point = Mesh(geometry=SphereGeometry(radius=0.05), \n",
    "                              material=LambertMaterial(color='red'),\n",
    "                             position=value)\n",
    "    scene.children = list(scene.children)+[point]\n",
    "click_picker.on_trait_change(f, 'point')\n",
    "\n",
    "link((hover_point, 'position'), (hover_picker, 'point'))\n",
    "\n",
    "h = HTML()\n",
    "def g(name, value):\n",
    "    h.value=\"Pink point at (%.3f, %.3f, %.3f)\"%tuple(value)\n",
    "g(None, hover_point.position)\n",
    "hover_picker.on_trait_change(g, 'point')\n",
    "VBox([h, renderer])"
   ]
  },
  {
   "cell_type": "markdown",
   "metadata": {},
   "source": [
    "# Terrain modeling? Let us check out the Grand Canyon"
   ]
  },
  {
   "cell_type": "code",
   "execution_count": null,
   "metadata": {
    "collapsed": false
   },
   "outputs": [],
   "source": [
    "from pythreejs import *\n",
    "import numpy as np\n",
    "import gdal as gd"
   ]
  },
  {
   "cell_type": "code",
   "execution_count": null,
   "metadata": {
    "collapsed": false
   },
   "outputs": [],
   "source": [
    "gc_ds = gd.Open('dem.tiff')\n",
    "dem = gc_ds.ReadAsArray()\n",
    "gt = gc_ds.GetGeoTransform()\n",
    "\n",
    "z = (dem - np.mean(dem) ) / 200\n",
    "nx, ny = z.shape\n",
    "surf_g = SurfaceGeometry(z=list(z.flat), height_segments=nx - 1, width_segments=ny - 1)\n",
    "surf = Mesh(geometry=surf_g, material=LambertMaterial(map=ImageTexture(imageuri='ortofoto.jpg')))\n",
    "sky = Mesh(geometry=SphereGeometry(radius=1000), material=LambertMaterial(map=ImageTexture(imageuri='sky.jpg')))\n",
    "scene = Scene(children=[AmbientLight(color=0x777777), sky,\n",
    "                        surf, DirectionalLight(color='white', position=[3, 5, 1], intensity=0.5)])\n"
   ]
  },
  {
   "cell_type": "code",
   "execution_count": null,
   "metadata": {
    "collapsed": false
   },
   "outputs": [],
   "source": [
    "c = PerspectiveCamera(position=[5, 0, 5], up=[0, 0, 1], \n",
    "                      children=[DirectionalLight(color='white', position=[3, 5, 1], intensity=0.5)],\n",
    "                      aspect=2)\n",
    "width = 950\n",
    "height = width / c.aspect\n",
    "c.look_at(c.position, (1, 0, 0))\n",
    "\n",
    "fly_controls = FlyControls(controlling=c)\n",
    "#fly_controls = OrbitControls(controlling=c)\n",
    "flight_renderer = Renderer(camera=c, scene=scene, width=width, height=height,\n",
    "                    controls=[fly_controls])\n",
    "\n",
    "pitch = FloatSlider(value=0, min=-1, max=1, description='pitch')\n",
    "roll = FloatSlider(value=0, min=-1, max=1, description='roll')\n",
    "yaw = FloatSlider(value=0, min=-1, max=1, description='yaw')\n",
    "move = FloatSlider(value=0, min=-1, max=1, description='move')\n",
    "transform_link((pitch, 'value'), (fly_controls, 'pitch'), affine(0.0, factor))\n",
    "transform_link((roll, 'value'), (fly_controls, 'roll'), affine(0.0, -factor))\n",
    "transform_link((move, 'value'), (fly_controls, 'forward_speed'), affine(0.0, factor))\n",
    "transform_link((yaw, 'value'), (fly_controls, 'yaw'), affine(0.0, factor))"
   ]
  },
  {
   "cell_type": "code",
   "execution_count": null,
   "metadata": {
    "collapsed": false
   },
   "outputs": [],
   "source": [
    "display(flight_renderer)\n",
    "display(VBox([HBox([pitch, roll]), HBox([yaw, forward])]))"
   ]
  },
  {
   "cell_type": "code",
   "execution_count": null,
   "metadata": {
    "collapsed": false
   },
   "outputs": [],
   "source": [
    "factor = 10\n",
    "def affine(constant, factor):\n",
    "    return lambda x: constant + factor * x\n",
    "\n",
    "pad.links = []\n",
    "\n",
    "def setup():\n",
    "    if pad.connected:\n",
    "        pad.links.append(transform_link((pad.axes[1], 'value'),\n",
    "                                        (fly_controls, 'pitch'),\n",
    "                         affine(0.0, factor)))\n",
    "        pad.links.append(transform_link((pad.axes[0], 'value'),\n",
    "                                        (fly_controls, 'roll'),\n",
    "                         affine(0.0, -factor)))\n",
    "        pad.links.append(transform_link((pad.axes[3], 'value'),\n",
    "                                        (fly_controls, 'forward_speed'),\n",
    "                         affine(0.0, factor)))\n",
    "        pad.links.append(transform_link((pad.axes[2], 'value'),\n",
    "                                        (fly_controls, 'yaw'),\n",
    "                         affine(0.0, factor)))\n",
    "        pad.links.append(transform_link((pad.buttons[5], 'value'),\n",
    "                                        (surf, 'scale'),\n",
    "                         lambda x: (1, 1, 1 - x)))\n",
    "    if not pad.connected:\n",
    "        for l in pad.links:\n",
    "            l.unlink()\n",
    "        pad.links = []\n",
    "        \n",
    "pad.on_trait_change(setup, name='connected')\n",
    "setup()"
   ]
  },
  {
   "cell_type": "code",
   "execution_count": null,
   "metadata": {
    "collapsed": true
   },
   "outputs": [],
   "source": [
    "c.position = [3, 0, 3]\n",
    "c.look_at(c.position, (0, 0, 0))"
   ]
  },
  {
   "cell_type": "code",
   "execution_count": null,
   "metadata": {
    "collapsed": false
   },
   "outputs": [],
   "source": [
    "#skyBox.scale.set(-1, 1, 1)\n",
    "#skyBox.eulerOrder = 'XZY'\n",
    "#skyBox.renderDepth = 1000"
   ]
  },
  {
   "cell_type": "code",
   "execution_count": null,
   "metadata": {
    "collapsed": true
   },
   "outputs": [],
   "source": [
    "surf.scale = (1, 1, 0.5)"
   ]
  },
  {
   "cell_type": "code",
   "execution_count": null,
   "metadata": {
    "collapsed": true
   },
   "outputs": [],
   "source": []
  },
  {
   "cell_type": "code",
   "execution_count": null,
   "metadata": {
    "collapsed": true
   },
   "outputs": [],
   "source": []
  },
  {
   "cell_type": "code",
   "execution_count": null,
   "metadata": {
    "collapsed": true
   },
   "outputs": [],
   "source": []
  }
 ],
 "metadata": {
  "kernelspec": {
   "display_name": "Python 3 (conda:strata)",
   "language": "python",
   "name": "strata"
  },
  "language_info": {
   "codemirror_mode": {
    "name": "ipython",
    "version": 3
   },
   "file_extension": ".py",
   "mimetype": "text/x-python",
   "name": "python",
   "nbconvert_exporter": "python",
   "pygments_lexer": "ipython3",
   "version": "3.4.3"
  }
 },
 "nbformat": 4,
 "nbformat_minor": 0
}
