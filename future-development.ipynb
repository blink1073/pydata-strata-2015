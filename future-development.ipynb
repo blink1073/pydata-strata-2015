{
 "cells": [
  {
   "cell_type": "markdown",
   "metadata": {
    "collapsed": true
   },
   "source": [
    "# Authoring in the Future"
   ]
  },
  {
   "cell_type": "markdown",
   "metadata": {},
   "source": [
    "## Single Page Apps using [Phosphor](https://phosphorjs.github.io/)\n",
    "\n",
    "<img alt=\"Single Page App\" width=\"600px\" src=\"images/phosphor_demo.gif\"></img>"
   ]
  },
  {
   "cell_type": "markdown",
   "metadata": {},
   "source": [
    "## [Dynamic Dashboards from Jupyter Notebooks](http://blog.ibmjstart.net/2015/08/22/dynamic-dashboards-from-jupyter-notebooks/)\n",
    "\n",
    "\n",
    "<img alt=\"Dynamic Dashboard\" width=\"600px\" src=\"images/dashboard_demo.gif\"></img>"
   ]
  },
  {
   "cell_type": "markdown",
   "metadata": {},
   "source": [
    "## [Declarative Widget System for Jupyter Notebooks](http://blog.ibmjstart.net/2015/08/21/declarative-widget-system-for-jupyter-notebooks/)\n",
    "\n",
    "<img alt=\"Declarative Widgets\" width=\"600px\" src=\"images/declarative_widgets.gif\"></img>"
   ]
  }
 ],
 "metadata": {
  "kernelspec": {
   "display_name": "Python 3",
   "language": "python",
   "name": "python3"
  },
  "language_info": {
   "codemirror_mode": {
    "name": "ipython",
    "version": 3
   },
   "file_extension": ".py",
   "mimetype": "text/x-python",
   "name": "python",
   "nbconvert_exporter": "python",
   "pygments_lexer": "ipython3",
   "version": "3.4.3"
  }
 },
 "nbformat": 4,
 "nbformat_minor": 0
}
