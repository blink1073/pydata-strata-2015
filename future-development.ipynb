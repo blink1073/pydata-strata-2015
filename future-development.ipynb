{
 "cells": [
  {
   "cell_type": "markdown",
   "metadata": {
    "collapsed": true
   },
   "source": [
    "# Future Development\n",
    "---"
   ]
  },
  {
   "cell_type": "markdown",
   "metadata": {},
   "source": [
    "## Single Page Authoring Environment\n",
    "\n",
    "Built with [PhosphorJS](https://phosphorjs.github.io/), the new authoring environment will be fast, flexible, modular, and pluggable.\n",
    "\n",
    "<img alt=\"Single Page App\" width=\"600px\" src=\"images/phosphor_demo.gif\"></img>"
   ]
  },
  {
   "cell_type": "markdown",
   "metadata": {},
   "source": [
    "## Dynamic Dashboards from Jupyter Notebooks\n",
    "\n",
    "A Jupyter incubator project from [IBM Emerging Technology](http://blog.ibmjstart.net/2015/08/22/dynamic-dashboards-from-jupyter-notebooks/) which allows notebooks to be transformed into dashboard application.\n",
    "\n",
    "<img alt=\"Dynamic Dashboard\" width=\"600px\" src=\"images/dashboard_demo.gif\"></img>"
   ]
  },
  {
   "cell_type": "markdown",
   "metadata": {},
   "source": [
    "## Declarative Widget System for Jupyter Notebooks\n",
    "\n",
    "Another incubator project from [IBM Emerging Technology](http://blog.ibmjstart.net/2015/08/21/declarative-widget-system-for-jupyter-notebooks/) which brings declarative [Polymer](https://www.polymer-project.org/) widgets to the notebook.\n",
    "\n",
    "<img alt=\"Declarative Widgets\" width=\"600px\" src=\"images/declarative_widgets.gif\"></img>"
   ]
  }
 ],
 "metadata": {
  "kernelspec": {
   "display_name": "Python 3",
   "language": "python",
   "name": "python3"
  },
  "language_info": {
   "codemirror_mode": {
    "name": "ipython",
    "version": 3
   },
   "file_extension": ".py",
   "mimetype": "text/x-python",
   "name": "python",
   "nbconvert_exporter": "python",
   "pygments_lexer": "ipython3",
   "version": "3.4.3"
  }
 },
 "nbformat": 4,
 "nbformat_minor": 0
}
