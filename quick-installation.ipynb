{
 "cells": [
  {
   "cell_type": "markdown",
   "metadata": {},
   "source": [
    "# Quick Installation\n",
    "---"
   ]
  },
  {
   "cell_type": "markdown",
   "metadata": {},
   "source": [
    "## The Simple Way\n",
    "\n",
    "**Recommended for users which are new to both Python and Jupyter.**\n",
    "\n",
    "<a href=\"http://continuum.io/downloads\" style=\"display: block; width: 300px;\">\n",
    "  <img width=\"300px\" alt=\"Anaconda\" src=\"images/anaconda_logo.png\"></img>\n",
    "</a>\n",
    "\n",
    "Anaconda is a completely-free, batteries-included, Python distribution for science. It includes Python, the Jupyter Notebook, and over 195 other packages for math, science, engineering, and data analysis. Installers are available for Windows, Mac, and Linux, for Python 2.7 and 3.4.\n"
   ]
  },
  {
   "cell_type": "markdown",
   "metadata": {},
   "source": [
    "## The Conda Way\n",
    "\n",
    "**Recommended for existing Python users which are new to Jupyter.**\n",
    "\n",
    "Conda is an open source package and environment management system for installing multiple versions of software packages and their dependencies and switching easily between them. It is included with all versions of Anaconda.\n",
    "\n",
    "If you manually manage your conda environments, Jupyter can be installed with:\n",
    "\n",
    "```bash\n",
    "conda install jupyter\n",
    "```"
   ]
  },
  {
   "cell_type": "markdown",
   "metadata": {},
   "source": [
    "## The PIP Way \n",
    "\n",
    "**Recommended for users who don't like to keep things simple.**\n",
    "\n",
    "If you already have Python installed, and **do not** want to use Conda, Jupyter can be installed with PIP. \n",
    "\n",
    "**Warning:** you may need a C-compiler for this:\n",
    "\n",
    "```bash\n",
    "# Python 2\n",
    "pip install jupyter\n",
    "\n",
    "# Python 3\n",
    "pip3 install jupyter\n",
    "```"
   ]
  },
  {
   "cell_type": "markdown",
   "metadata": {},
   "source": [
    "## More Options\n",
    "\n",
    "Visit the [official Jupyter docs](http://jupyter.readthedocs.org/en/latest/install.html) for more installation options."
   ]
  }
 ],
 "metadata": {
  "kernelspec": {
   "display_name": "Python 3",
   "language": "python",
   "name": "python3"
  },
  "language_info": {
   "codemirror_mode": {
    "name": "ipython",
    "version": 3
   },
   "file_extension": ".py",
   "mimetype": "text/x-python",
   "name": "python",
   "nbconvert_exporter": "python",
   "pygments_lexer": "ipython3",
   "version": "3.4.3"
  }
 },
 "nbformat": 4,
 "nbformat_minor": 0
}
