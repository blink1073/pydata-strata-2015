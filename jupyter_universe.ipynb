{
 "cells": [
  {
   "cell_type": "markdown",
   "metadata": {},
   "source": [
    "# Jupyter Universe\n",
    "---"
   ]
  },
  {
   "cell_type": "markdown",
   "metadata": {},
   "source": [
    "nbconvert\n",
    "---------\n",
    "jupyter [nbconvert](http://nbconvert.readthedocs.org/en/latest/) converts notebooks to various other formats including HTML and LaTeX.\n"
   ]
  },
  {
   "cell_type": "markdown",
   "metadata": {},
   "source": [
    "nbviewer\n",
    "--------\n",
    "\"A simple way to share Jupyter Notebooks\" as a static [rendering](http://nbviewer.ipython.org/)."
   ]
  },
  {
   "cell_type": "markdown",
   "metadata": {},
   "source": [
    "jupyterhub\n",
    "---------\n",
    "JupyterHub is a multi-user [server](https://github.com/jupyter/jupyterhub) that manages and proxies multiple instances of the single-user Jupyter notebook server.  "
   ]
  },
  {
   "cell_type": "markdown",
   "metadata": {},
   "source": [
    "tmpnb\n",
    "-----\n",
    "Launches \"temporary\" Jupyter notebook [servers](https://github.com/jupyter/tmpnb)."
   ]
  },
  {
   "cell_type": "markdown",
   "metadata": {},
   "source": [
    "thebe\n",
    "-----\n",
    "Jupyter javascript [plugin](https://oreillymedia.github.io/thebe/) for static sites.  [Thebe](https://github.com/oreillymedia/thebe) takes the Jupyter front end, and makes it work outside of the notebook context."
   ]
  },
  {
   "cell_type": "markdown",
   "metadata": {},
   "source": [
    "nbgrader\n",
    "--------\n",
    "A [system](http://nbgrader.readthedocs.org/en/stable/) for assigning and grading Jupyter notebooks."
   ]
  },
  {
   "cell_type": "markdown",
   "metadata": {},
   "source": [
    "sidecar\n",
    "-------\n",
    "Little side [display](https://github.com/nteract/jupyter-sidecar) of Jupyter kernel rich output. \n",
    "\n",
    "![Sidecar in Electron](images/sidecar.gif)"
   ]
  },
  {
   "cell_type": "markdown",
   "metadata": {},
   "source": [
    "hydrogen\n",
    "--------\n",
    "[Run code](https://atom.io/packages/hydrogen) in the Atom Editor and get results inline using Jupyter kernels like IPython, IJulia, and iTorch."
   ]
  },
  {
   "cell_type": "markdown",
   "metadata": {},
   "source": [
    "Language Kernels\n",
    "---------------\n",
    "The IPython kernel can be thought as a reference implementation, but there are a number other available [kernels](https://github.com/ipython/ipython/wiki/IPython-kernels-for-other-languages), including Julia, R, and Haskell."
   ]
  },
  {
   "cell_type": "markdown",
   "metadata": {},
   "source": [
    "Jupyter Drive\n",
    "-------------\n",
    "Google Drive [support](https://github.com/jupyter/jupyter-drive) for Jupyter Notebook."
   ]
  }
 ],
 "metadata": {
  "kernelspec": {
   "display_name": "Python 3",
   "language": "python",
   "name": "python3"
  },
  "language_info": {
   "codemirror_mode": {
    "name": "ipython",
    "version": 3
   },
   "file_extension": ".py",
   "mimetype": "text/x-python",
   "name": "python",
   "nbconvert_exporter": "python",
   "pygments_lexer": "ipython3",
   "version": "3.4.3"
  }
 },
 "nbformat": 4,
 "nbformat_minor": 0
}
