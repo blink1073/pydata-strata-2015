{
 "cells": [
  {
   "cell_type": "markdown",
   "metadata": {},
   "source": [
    "# The Jupyter Notebook - Present and Future\n",
    "## PyData Strata 2015\n",
    "### Jason Grout - Bloomberg - jgrout6@bloomberg.net\n",
    "### S. Chris Colbert - Continuum Analytics - ccolbert@continuum.io\n",
    "---"
   ]
  },
  {
   "cell_type": "markdown",
   "metadata": {},
   "source": [
    "## Talk Outline\n",
    "- Quick Installation\n",
    "- Jupyter Overview\n",
    "- Notebook Basics\n",
    "- Exploring Data With Pandas\n",
    "- Data Visualization\n",
    "- Interactive Widgets\n",
    "- Authoring in the Future"
   ]
  }
 ],
 "metadata": {
  "kernelspec": {
   "display_name": "Python 3",
   "language": "python",
   "name": "python3"
  },
  "language_info": {
   "codemirror_mode": {
    "name": "ipython",
    "version": 3
   },
   "file_extension": ".py",
   "mimetype": "text/x-python",
   "name": "python",
   "nbconvert_exporter": "python",
   "pygments_lexer": "ipython3",
   "version": "3.4.3"
  }
 },
 "nbformat": 4,
 "nbformat_minor": 0
}
