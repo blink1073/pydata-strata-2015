{
 "cells": [
  {
   "cell_type": "markdown",
   "metadata": {},
   "source": [
    "# The Jupyter Notebook - Present and Future\n",
    "## PyData Strata 2015\n",
    "### Jason Grout - Bloomberg - jgrout6@bloomberg.net\n",
    "### Chris Colbert - Continuum Analytics - ccolbert@continuum.io\n",
    "---"
   ]
  },
  {
   "cell_type": "markdown",
   "metadata": {},
   "source": [
    "## Outline\n",
    "\n",
    "- [Jupyter Overview](jupyter-overview.ipynb) [5 min]\n",
    "- [Quick Installation](quick-installation.ipynb) [1 min]\n",
    "- [Notebook Basics](notebook-basics.ipynb) [5 min]\n",
    "- Exploring Data With Pandas [5 min]\n",
    " - Basic read data\n",
    " - Basic show data\n",
    " - Pivot/Unstack/etc.\n",
    " - GroupBy/Summarize\n",
    "- Data Visualization [10 min]\n",
    " - Bokeh\n",
    " - Matplotlib\n",
    " - Other Plotting Tools\n",
    "- Interactive Widgets [10 min]\n",
    " - interact\n",
    " - slider\n",
    " - slider/text\n",
    " - simple layout\n",
    " - architecture diagram\n",
    " - complicated example\n",
    "- Authoring in the Future [5 min]\n",
    " - single page apps\n",
    " - widget dashboards\n",
    " - full screen widgets"
   ]
  },
  {
   "cell_type": "markdown",
   "metadata": {},
   "source": [
    "## Today's Talk - http://bit.ly/1NLjq4X"
   ]
  }
 ],
 "metadata": {
  "kernelspec": {
   "display_name": "Python 3",
   "language": "python",
   "name": "python3"
  },
  "language_info": {
   "codemirror_mode": {
    "name": "ipython",
    "version": 3
   },
   "file_extension": ".py",
   "mimetype": "text/x-python",
   "name": "python",
   "nbconvert_exporter": "python",
   "pygments_lexer": "ipython3",
   "version": "3.5.0"
  }
 },
 "nbformat": 4,
 "nbformat_minor": 0
}
