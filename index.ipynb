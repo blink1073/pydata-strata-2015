{
 "cells": [
  {
   "cell_type": "markdown",
   "metadata": {},
   "source": [
    "# The Jupyter Notebook - Present and Future\n",
    "## PyData at Strata 2015\n",
    "---"
   ]
  },
  {
   "cell_type": "markdown",
   "metadata": {},
   "source": [
    "## Speakers\n",
    "\n",
    "### Chris Colbert | [Continuum Analytics](http://continuum.io/) | <ccolbert@continuum.io>\n",
    "\n",
    "<img src=\"images/sccolbert.jpg\" style=\"float: left; margin-right: 10px\"></img>\n",
    "\n",
    "Chris is a software architect for Continuum Analytics, and is based in the New York City area. He has worked previously for top Wall St. firms and was the lead designer of the UI framework for a front office trading platform. He is the creator of the PhosphorJS and Nucleic projects which provide libraries for developing enterprise quality applications on the desktop and in the browser. He received his MS in Mechanical Engineering from the University of South Florida.\n",
    "\n",
    "### Jason Grout | [Bloomberg](http://bloomberg.net) | <jgrout6@bloomberg.net>\n",
    "\n",
    "<img src=\"images/jgrout.jpg\" style=\"float: left; margin-right: 10px\"></img>\n",
    "\n",
    "Jason Grout received a PhD in mathematics from Brigham Young University, was a postdoc at Iowa State University, an assistant professor of mathematics at Drake University in Des Moines, Iowa, and recently joined Bloomberg L.P. He has been contributing to the open-source Sage mathematical software system since 2007, and until recently was leading the development effort and running the Sage online notebook and the Sage cell server for several years. For the last several years, Jason has been contributing to IPython, including many contributions to the widget infrastructure."
   ]
  },
  {
   "cell_type": "markdown",
   "metadata": {},
   "source": [
    "## Talk Repository\n",
    "\n",
    "### http://bit.ly/1NLjq4X"
   ]
  },
  {
   "cell_type": "markdown",
   "metadata": {},
   "source": [
    "## Outline\n",
    "\n",
    "- **<code>[Jupyter Overview](jupyter-overview.ipynb)     [3 min]</code>**\n",
    "- **<code>[Quick Installation](quick-installation.ipynb)   [1 min]</code>**\n",
    "- **<code>[Notebook Basics](notebook-basics.ipynb)      [6 min]</code>**\n",
    "- **<code>[Exploring Pandas](exploring-pandas.ipynb)     [5 min]</code>**\n",
    "- **<code>[Data Visualization](data-visualization.ipynb)   [10 min]</code>**\n",
    "- **<code>[Interactive Widgets](interactive-widgets.ipynb)  [10 min]</code>**\n",
    "- **<code>[Future Development](future-development.ipynb)   [5 min]</code>**"
   ]
  },
  {
   "cell_type": "markdown",
   "metadata": {},
   "source": [
    "## Acknowledgements\n",
    "\n",
    "- [Steve Silvester](https://github.com/blink1073)\n",
    "- [Dave Willmer](https://github.com/dwillmer)\n",
    "- [Sylvain Corlay](https://github.com/sylvaincorlay)\n",
    "- [IPython Training Notebooks](https://github.com/ipython/ipython-in-depth)"
   ]
  }
 ],
 "metadata": {
  "kernelspec": {
   "display_name": "Python 3",
   "language": "python",
   "name": "python3"
  },
  "language_info": {
   "codemirror_mode": {
    "name": "ipython",
    "version": 3
   },
   "file_extension": ".py",
   "mimetype": "text/x-python",
   "name": "python",
   "nbconvert_exporter": "python",
   "pygments_lexer": "ipython3",
   "version": "3.5.0"
  }
 },
 "nbformat": 4,
 "nbformat_minor": 0
}
