{
 "cells": [
  {
   "cell_type": "markdown",
   "metadata": {},
   "source": [
    "# The Jupyter Notebook - Present and Future\n",
    "## PyData Strata 2015\n",
    "### Jason Grout - Bloomberg - jgrout6@bloomberg.net\n",
    "### Chris Colbert - Continuum Analytics - ccolbert@continuum.io\n",
    "---"
   ]
  },
  {
   "cell_type": "markdown",
   "metadata": {},
   "source": [
    "## Outline\n",
    "\n",
    "- [Jupyter Overview](jupyter-overview.ipynb)\n",
    "- [Quick Installation](quick-installation.ipynb)\n",
    "- [Notebook Basics](notebook-basics.ipynb)\n",
    "- Exploring Data With Pandas\n",
    "- Data Visualization\n",
    "- Interactive Widgets\n",
    "- Authoring in the Future"
   ]
  },
  {
   "cell_type": "markdown",
   "metadata": {},
   "source": [
    "## Today's Talk - http://bit.ly/1NLjq4X"
   ]
  }
 ],
 "metadata": {
  "kernelspec": {
   "display_name": "Python 3",
   "language": "python",
   "name": "python3"
  },
  "language_info": {
   "codemirror_mode": {
    "name": "ipython",
    "version": 3
   },
   "file_extension": ".py",
   "mimetype": "text/x-python",
   "name": "python",
   "nbconvert_exporter": "python",
   "pygments_lexer": "ipython3",
   "version": "3.4.3"
  }
 },
 "nbformat": 4,
 "nbformat_minor": 0
}
