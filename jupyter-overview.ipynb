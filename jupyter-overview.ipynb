{
 "cells": [
  {
   "cell_type": "markdown",
   "metadata": {},
   "source": [
    "# Jupyter Overview\n",
    "---"
   ]
  },
  {
   "cell_type": "markdown",
   "metadata": {},
   "source": [
    "## Mission"
   ]
  },
  {
   "cell_type": "markdown",
   "metadata": {},
   "source": [
    "#### The [Jupyter](http://jupyter.org/) project offers an open-source, BSD-licensed, interactive computing environment for Python, Julia, R, and other languages."
   ]
  },
  {
   "cell_type": "markdown",
   "metadata": {},
   "source": [
    "<div class=\"alert bg-primary\"> Enable the creation and sharing of code/data driven narratives across a wide range of contexts and audiences </div>\n",
    "<div class=\"alert bg-primary\"> Make computational reproducibility possible and enjoyable </div>\n",
    "<div class=\"alert bg-primary\"> Minimize the \"distance\" between a human user and their code/data through interactivity </div>"
   ]
  },
  {
   "cell_type": "markdown",
   "metadata": {},
   "source": [
    "## History"
   ]
  },
  {
   "cell_type": "markdown",
   "metadata": {},
   "source": [
    "### IPython\n",
    "\n",
    "<img alt=\"IPython Logo\" width=\"400px\" src=\"images/ipython_logo.png\"></img>"
   ]
  },
  {
   "cell_type": "markdown",
   "metadata": {},
   "source": [
    "- Started in 2001 by Fernando Perez who continues to lead the project as BDFL.\n",
    "- Focused on interactive computing in **Python only** until 2011.\n",
    "- Began to included other languages such as Julia, R, and Ruby.\n",
    "- Language-independent portions separated into Project Jupyter in 2014.\n",
    "- Currently the home for the Python language kernel, interactive python shell, and Python parallel computing tools."
   ]
  },
  {
   "cell_type": "markdown",
   "metadata": {},
   "source": [
    "### Jupyter\n",
    "\n",
    "<img alt=\"IPython Logo\" width=\"400px\" src=\"images/jupyter_logo.png\"></img>"
   ]
  },
  {
   "cell_type": "markdown",
   "metadata": {},
   "source": [
    "- Created 2014 by the IPython team to focus on the language independent parts of the architecture.\n",
    "  - A network protocol for applications to talk to computation kernels.\n",
    "  - A set of applications for authoring and running code on those kernels.\n",
    "  - A notebook file format and associated conversion tools.\n",
    "  - A notebook sharing service.\n",
    "- Supports over 40 languages (many community maintained).\n",
    "  - Python\n",
    "  - Julia\n",
    "  - R\n",
    "  - Ruby\n",
    "  - Haskell\n",
    "  - Scala\n",
    "  - Go\n",
    "  - [Full List](https://github.com/ipython/ipython/wiki/IPython%20kernels%20for%20other%20languages)\n",
    "- Several sources of funding.\n",
    "  - [Helmsley Charitable Trust](http://helmsleytrust.org/)\n",
    "  - [Alfred P. Sloan Foundation](http://www.sloan.org/)\n",
    "  - [Gordan and Betty Moore Foundation](https://www.moore.org/)\n",
    "  - [Google](https://www.google.com/)\n",
    "  - [Microsoft](http://www.microsoft.com/)\n",
    "  - [Rackspace](http://developer.rackspace.com/)\n",
    "  - [Fastly](https://www.fastly.com/)\n",
    "- Estimated user base in the millions."
   ]
  },
  {
   "cell_type": "markdown",
   "metadata": {},
   "source": [
    "## Organization\n",
    "\n",
    "Steering council who ultimately make final decisions.\n",
    "- **Brian Granger** | Cal Poly, San Luis Obispo\n",
    "- **Damian Avila** | Continuum Analytics\n",
    "- **Fernando Perez** | UC Berkeley\n",
    "- **Jason Grout** | Bloomberg\n",
    "- **Jessica Hamrick** | UC Berkeley\n",
    "- **Jonathan Frederic** | Cal Poly, San Luis Obispo\n",
    "- **Kyle Kelley** | Rackspace\n",
    "- **Mattias Bussionnier** | UC Berkeley\n",
    "- **Min Ragan-Kelley** | UC Berkeley\n",
    "- **Thomas Kluyver** | UC Berkeley\n",
    "\n",
    "And a comunity of ~375 contributors across academia and enterprise which drive project development."
   ]
  },
  {
   "cell_type": "markdown",
   "metadata": {},
   "source": [
    "## Universe"
   ]
  },
  {
   "cell_type": "markdown",
   "metadata": {},
   "source": [
    "### [nbconvert](http://nbconvert.readthedocs.org/en/latest/)\n",
    "\n",
    "A tool which converts notebooks to various other formats including HTML and LaTeX."
   ]
  },
  {
   "cell_type": "markdown",
   "metadata": {},
   "source": [
    "### [nbviewer](http://nbviewer.ipython.org/)\n",
    "\n",
    "Provides a simple way to share Jupyter notebooks as a static rendering."
   ]
  },
  {
   "cell_type": "markdown",
   "metadata": {},
   "source": [
    "### [jupyterhub](https://github.com/jupyter/jupyterhub)\n",
    "\n",
    "A multi-user server that manages and proxies multiple instances of the single-user Jupyter notebook server.  "
   ]
  },
  {
   "cell_type": "markdown",
   "metadata": {},
   "source": [
    "### [tmpnb](https://github.com/jupyter/tmpnb)\n",
    "\n",
    "Launches a temporary Jupyter notebook server running on containerized infrastructure."
   ]
  },
  {
   "cell_type": "markdown",
   "metadata": {},
   "source": [
    "### [thebe](https://oreillymedia.github.io/thebe/)\n",
    "\n",
    "A Jupyter javascript plugin by O'Reilly for embedding live notebook content into static sites."
   ]
  },
  {
   "cell_type": "markdown",
   "metadata": {},
   "source": [
    "### [nbgrader](http://nbgrader.readthedocs.org/en/stable/)\n",
    "\n",
    "A system for assigning and grading Jupyter notebooks in a classroom setting."
   ]
  },
  {
   "cell_type": "markdown",
   "metadata": {},
   "source": [
    "### [sidecar](https://github.com/nteract/jupyter-sidecar)\n",
    "\n",
    "A separate (non-notebook) side display of Jupyter kernel rich output."
   ]
  },
  {
   "cell_type": "markdown",
   "metadata": {},
   "source": [
    "### [hydrogen](https://atom.io/packages/hydrogen)\n",
    "\n",
    "A package for running and visualizing code in the Atom Editor using installed Jupyter kernels."
   ]
  },
  {
   "cell_type": "markdown",
   "metadata": {},
   "source": [
    "### [jupyter-drive](https://github.com/jupyter/jupyter-drive)\n",
    "\n",
    "Google Drive support for Jupyter notebooks."
   ]
  }
 ],
 "metadata": {
  "kernelspec": {
   "display_name": "Python 3",
   "language": "python",
   "name": "python3"
  },
  "language_info": {
   "codemirror_mode": {
    "name": "ipython",
    "version": 3
   },
   "file_extension": ".py",
   "mimetype": "text/x-python",
   "name": "python",
   "nbconvert_exporter": "python",
   "pygments_lexer": "ipython3",
   "version": "3.4.3"
  }
 },
 "nbformat": 4,
 "nbformat_minor": 0
}
