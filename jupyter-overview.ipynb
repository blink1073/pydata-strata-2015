{
 "cells": [
  {
   "cell_type": "markdown",
   "metadata": {},
   "source": [
    "# Jupyter Overview"
   ]
  },
  {
   "cell_type": "markdown",
   "metadata": {},
   "source": [
    "### Mission\n",
    "- Reproducible Science\n",
    "- Computational Narrative\n",
    "- Helping people understand code\n",
    "- Contains code and data and narrative"
   ]
  },
  {
   "cell_type": "markdown",
   "metadata": {},
   "source": [
    "### Project History\n",
    "- started in 2001 by Fernando Perez\n",
    "- Brian started in 2004\n",
    "- focused just on Python until 2011\n",
    "- started on notebook in 2011\n",
    "- became Jupyter in Summer 2014\n",
    "- estimated user base in the millions"
   ]
  },
  {
   "cell_type": "markdown",
   "metadata": {},
   "source": [
    "### Main Components\n",
    "- Dashboard\n",
    "- Notebook\n",
    "- Text Editor\n",
    "- Terminal"
   ]
  },
  {
   "cell_type": "markdown",
   "metadata": {},
   "source": [
    "### Jupyter Universe\n",
    "- nbconvert\n",
    "- nbviewer\n",
    "- jupyterhub\n",
    "- tmpnb\n",
    "- thebe\n",
    "- nbgrader\n",
    "- sidecar\n",
    "- hydrogen\n",
    "- language kernels\n",
    "- Jupyter Drive"
   ]
  }
 ],
 "metadata": {
  "kernelspec": {
   "display_name": "Python 3",
   "language": "python",
   "name": "python3"
  },
  "language_info": {
   "codemirror_mode": {
    "name": "ipython",
    "version": 3
   },
   "file_extension": ".py",
   "mimetype": "text/x-python",
   "name": "python",
   "nbconvert_exporter": "python",
   "pygments_lexer": "ipython3",
   "version": "3.4.3"
  }
 },
 "nbformat": 4,
 "nbformat_minor": 0
}
