{
 "cells": [
  {
   "cell_type": "markdown",
   "metadata": {},
   "source": [
    "# Notebook Basics"
   ]
  },
  {
   "cell_type": "markdown",
   "metadata": {},
   "source": [
    "### This notebook is currently all unordered thoughts"
   ]
  },
  {
   "cell_type": "markdown",
   "metadata": {},
   "source": [
    "### Start the Notebook\n",
    "\n",
    "Once you have successfully installed Jupyter, the Notebook server can be started with the following command:\n",
    "\n",
    "```bash\n",
    "jupyter notebook\n",
    "```"
   ]
  },
  {
   "cell_type": "markdown",
   "metadata": {},
   "source": [
    "Notebook\n",
    "--------\n",
    "- interactive computation\n",
    "- autocomplete\n",
    "- docstrings\n",
    "- run shell commands\n",
    "- generalized output / mime bundle"
   ]
  },
  {
   "cell_type": "markdown",
   "metadata": {},
   "source": [
    "- introduction of who we are, what we do?\n",
    "- Achitecture Diagram\n",
    "- text editor\n",
    "- markdown\n",
    "- latex\n",
    "- widgets\n",
    "- terminal\n",
    "- static file server\n",
    "- Jupyter Drive\n",
    "- Nbviewer\n",
    "- Thebe\n",
    "- O'reilly learning\n",
    "- multi-language"
   ]
  }
 ],
 "metadata": {
  "kernelspec": {
   "display_name": "Python 3",
   "language": "python",
   "name": "python3"
  },
  "language_info": {
   "codemirror_mode": {
    "name": "ipython",
    "version": 3
   },
   "file_extension": ".py",
   "mimetype": "text/x-python",
   "name": "python",
   "nbconvert_exporter": "python",
   "pygments_lexer": "ipython3",
   "version": "3.5.0"
  }
 },
 "nbformat": 4,
 "nbformat_minor": 0
}
